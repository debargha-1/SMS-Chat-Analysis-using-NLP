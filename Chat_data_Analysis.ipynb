{
  "cells": [
    {
      "cell_type": "markdown",
      "source": [
        "##**Introduction:**\n",
        "Here, we’re working with the [SMS Spam Collection dataset from UCI](https://archive.ics.uci.edu/dataset/228/sms+spam+collection) to automate chat analysis using NLP. The goal is to extract key points, identify sentiments, and classify intentions from chat data, helping organizations gain actionable insights from large volumes of text. This includes tasks like spam detection, topic modeling, and summarization."
      ],
      "metadata": {
        "id": "VPtLWAboKqhc"
      }
    },
    {
      "cell_type": "code",
      "execution_count": null,
      "metadata": {
        "id": "szkPdU1j9Mom"
      },
      "outputs": [],
      "source": [
        "import pandas as pd\n",
        "import numpy as np\n",
        "import matplotlib.pyplot as plt\n",
        "import seaborn as sns"
      ]
    },
    {
      "cell_type": "code",
      "execution_count": null,
      "metadata": {
        "colab": {
          "base_uri": "https://localhost:8080/"
        },
        "id": "K9rm49pu7qKB",
        "outputId": "64e6235b-73da-415b-da8d-0e4c9075fb8a"
      },
      "outputs": [
        {
          "name": "stdout",
          "output_type": "stream",
          "text": [
            "  label                                            message\n",
            "0   ham  Go until jurong point, crazy.. Available only ...\n",
            "1   ham                      Ok lar... Joking wif u oni...\n",
            "2  spam  Free entry in 2 a wkly comp to win FA Cup fina...\n",
            "3   ham  U dun say so early hor... U c already then say...\n",
            "4   ham  Nah I don't think he goes to usf, he lives aro...\n"
          ]
        }
      ],
      "source": [
        "#Load the dataset with the delimiter\n",
        "df = pd.read_csv('/content/SMSSpamCollection.csv', delimiter='\\t', header=None, names=['label', 'message'])\n",
        "\n",
        "#Display the first few rows\n",
        "print(df.head())"
      ]
    },
    {
      "cell_type": "code",
      "execution_count": null,
      "metadata": {
        "colab": {
          "base_uri": "https://localhost:8080/"
        },
        "id": "2k0sO7X1sg-S",
        "outputId": "169d74af-3a87-4de2-9de6-abb01bda9c48"
      },
      "outputs": [
        {
          "name": "stdout",
          "output_type": "stream",
          "text": [
            "label\n",
            "ham     4825\n",
            "spam     747\n",
            "Name: count, dtype: int64\n"
          ]
        }
      ],
      "source": [
        "#Count the number of spam and ham messages\n",
        "print(df['label'].value_counts())"
      ]
    },
    {
      "cell_type": "code",
      "execution_count": null,
      "metadata": {
        "colab": {
          "base_uri": "https://localhost:8080/"
        },
        "id": "iDd7hFssvHA1",
        "outputId": "336d799f-dfef-4a4e-90f3-e7b3aa9e516a"
      },
      "outputs": [
        {
          "name": "stdout",
          "output_type": "stream",
          "text": [
            "label      0\n",
            "message    0\n",
            "dtype: int64\n",
            "0\n",
            "  label                                            message\n",
            "0   ham  Go until jurong point, crazy.. Available only ...\n",
            "1   ham                      Ok lar... Joking wif u oni...\n",
            "2  spam  Free entry in 2 a wkly comp to win FA Cup fina...\n",
            "3   ham  U dun say so early hor... U c already then say...\n",
            "4   ham  Nah I don't think he goes to usf, he lives aro...\n"
          ]
        }
      ],
      "source": [
        "#Check for missing values\n",
        "print(df.isnull().sum())\n",
        "\n",
        "#Check for any duplicate rows\n",
        "print(df.duplicated().sum())\n",
        "\n",
        "#Drop duplicates (if any)\n",
        "df = df.drop_duplicates()\n",
        "\n",
        "#Check the first few rows to ensure it's clean\n",
        "print(df.head())"
      ]
    },
    {
      "cell_type": "code",
      "execution_count": null,
      "metadata": {
        "colab": {
          "base_uri": "https://localhost:8080/"
        },
        "id": "-_x9xOV5wqVG",
        "outputId": "ad79367e-72f5-46a1-a520-83c7f4cf1597"
      },
      "outputs": [
        {
          "name": "stdout",
          "output_type": "stream",
          "text": [
            "count    5169.000000\n",
            "mean       15.439930\n",
            "std        11.117073\n",
            "min         1.000000\n",
            "25%         7.000000\n",
            "50%        12.000000\n",
            "75%        22.000000\n",
            "max       171.000000\n",
            "Name: word_count, dtype: float64\n"
          ]
        }
      ],
      "source": [
        "#Add a column for word count\n",
        "df['word_count'] = df['message'].apply(lambda x: len(x.split()))\n",
        "\n",
        "#Display basic statistics for word count\n",
        "print(df['word_count'].describe())"
      ]
    },
    {
      "cell_type": "markdown",
      "source": [
        "Exploratory Data Analysis (EDA)"
      ],
      "metadata": {
        "id": "-o1RQSjjMFro"
      }
    },
    {
      "cell_type": "code",
      "execution_count": null,
      "metadata": {
        "colab": {
          "base_uri": "https://localhost:8080/",
          "height": 517
        },
        "id": "LHpNYXL-w-gT",
        "outputId": "653d9ef5-ecac-4849-babb-b5d1c419dfa1"
      },
      "outputs": [
        {
          "name": "stderr",
          "output_type": "stream",
          "text": [
            "<ipython-input-55-e25cedcbe9bb>:3: FutureWarning: \n",
            "\n",
            "Passing `palette` without assigning `hue` is deprecated and will be removed in v0.14.0. Assign the `x` variable to `hue` and set `legend=False` for the same effect.\n",
            "\n",
            "  sns.countplot(x='label', data=df, palette='Set2')\n"
          ]
        },
        {
          "data": {
            "image/png": "[encoded data removed]",
            "text/plain": [
              "<Figure size 600x400 with 1 Axes>"
            ]
          },
          "metadata": {},
          "output_type": "display_data"
        }
      ],
      "source": [
        "#Plot the distribution of labels (Spam vs Ham)\n",
        "plt.figure(figsize=(6, 4))\n",
        "sns.countplot(x='label', data=df, palette='Set2')\n",
        "plt.title('Distribution of Spam vs Ham Messages')\n",
        "plt.show()"
      ]
    },
    {
      "cell_type": "markdown",
      "source": [
        "The graph shows there are many more legitimate (ham) messages than spam messages in the dataset - about 6-7 times more ham than spam. This big difference in numbers is normal in real chat systems but can make it tricky for spam detection models to work their best."
      ],
      "metadata": {
        "id": "7J4coFxaMkRm"
      }
    },
    {
      "cell_type": "code",
      "execution_count": null,
      "metadata": {
        "colab": {
          "base_uri": "https://localhost:8080/",
          "height": 517
        },
        "id": "8cvESe6yxQSa",
        "outputId": "54353c3f-376b-44b4-ca1d-30e2eda66fe6"
      },
      "outputs": [
        {
          "name": "stderr",
          "output_type": "stream",
          "text": [
            "<ipython-input-56-d3871d6a5ae6>:3: FutureWarning: \n",
            "\n",
            "Passing `palette` without assigning `hue` is deprecated and will be removed in v0.14.0. Assign the `x` variable to `hue` and set `legend=False` for the same effect.\n",
            "\n",
            "  sns.boxplot(x='label', y='word_count', data=df, palette='Set2')\n"
          ]
        },
        {
          "data": {
            "image/png": "[encoded data removed]",
            "text/plain": [
              "<Figure size 600x400 with 1 Axes>"
            ]
          },
          "metadata": {},
          "output_type": "display_data"
        }
      ],
      "source": [
        "#Plot word count distribution by label (Spam vs Ham)\n",
        "plt.figure(figsize=(6, 4))\n",
        "sns.boxplot(x='label', y='word_count', data=df, palette='Set2')\n",
        "plt.title('Word Count Distribution by Label')\n",
        "plt.show()"
      ]
    },
    {
      "cell_type": "markdown",
      "source": [
        "The graph shows that spam messages tend to be more consistent in length, while legitimate messages vary more in length, with some being very long. This makes sense since real messages serve different purposes requiring different lengths."
      ],
      "metadata": {
        "id": "-v5-KJv0M0Jf"
      }
    },
    {
      "cell_type": "markdown",
      "source": [
        "**Text Preprocessing:**\n",
        "\n",
        "1. Lowercase all the text.\n",
        "2. Remove punctuation.\n",
        "3. Remove stopwords.\n",
        "4. Tokenize the messages."
      ],
      "metadata": {
        "id": "lp6hFrkWNWvt"
      }
    },
    {
      "cell_type": "code",
      "execution_count": null,
      "metadata": {
        "colab": {
          "base_uri": "https://localhost:8080/"
        },
        "id": "hv5xt3r4xx-Z",
        "outputId": "0a679709-88d0-4f82-a357-22f69d6cb853"
      },
      "outputs": [
        {
          "name": "stderr",
          "output_type": "stream",
          "text": [
            "[nltk_data] Downloading package punkt to /root/nltk_data...\n",
            "[nltk_data]   Unzipping tokenizers/punkt.zip.\n",
            "[nltk_data] Downloading package stopwords to /root/nltk_data...\n",
            "[nltk_data]   Package stopwords is already up-to-date!\n"
          ]
        },
        {
          "name": "stdout",
          "output_type": "stream",
          "text": [
            "  label                                            message  word_count  \\\n",
            "0   ham  Go until jurong point, crazy.. Available only ...          20   \n",
            "1   ham                      Ok lar... Joking wif u oni...           6   \n",
            "2  spam  Free entry in 2 a wkly comp to win FA Cup fina...          28   \n",
            "3   ham  U dun say so early hor... U c already then say...          11   \n",
            "4   ham  Nah I don't think he goes to usf, he lives aro...          13   \n",
            "\n",
            "                                   processed_message  \n",
            "0  go jurong point crazy available bugis n great ...  \n",
            "1                            ok lar joking wif u oni  \n",
            "2  free entry 2 wkly comp win fa cup final tkts 2...  \n",
            "3                u dun say early hor u c already say  \n",
            "4        nah dont think goes usf lives around though  \n"
          ]
        }
      ],
      "source": [
        "import string\n",
        "from nltk.corpus import stopwords\n",
        "from nltk.tokenize import word_tokenize\n",
        "\n",
        "import nltk\n",
        "nltk.download('punkt')\n",
        "nltk.download('stopwords')\n",
        "\n",
        "#Function to preprocess messages\n",
        "def preprocess_message(message):\n",
        "    #Convert to lowercase\n",
        "    message = message.lower()\n",
        "\n",
        "    #Remove punctuation\n",
        "    message = message.translate(str.maketrans('', '', string.punctuation))\n",
        "\n",
        "    #Tokenize the message\n",
        "    words = word_tokenize(message)\n",
        "\n",
        "    #Remove stopwords\n",
        "    stop_words = set(stopwords.words('english'))\n",
        "    words = [word for word in words if word not in stop_words]\n",
        "\n",
        "    return ' '.join(words)\n",
        "\n",
        "#Apply preprocessing to the 'message' column\n",
        "df['processed_message'] = df['message'].apply(preprocess_message)\n",
        "\n",
        "#Check the first few rows of the processed data\n",
        "print(df.head())"
      ]
    },
    {
      "cell_type": "markdown",
      "source": [
        "Top Words in Spam and Ham Messages\n"
      ],
      "metadata": {
        "id": "xcMSthKbNpIN"
      }
    },
    {
      "cell_type": "code",
      "execution_count": null,
      "metadata": {
        "colab": {
          "base_uri": "https://localhost:8080/"
        },
        "id": "bNNqMC7pyjRf",
        "outputId": "504d8f71-2c2d-47f2-b3ee-692bcf02058a"
      },
      "outputs": [
        {
          "name": "stdout",
          "output_type": "stream",
          "text": [
            "Top words in spam messages: [('call', 303), ('free', 188), ('2', 155), ('txt', 126), ('u', 124), ('ur', 119), ('mobile', 105), ('stop', 105), ('text', 103), ('4', 97)]\n",
            "Top words in ham messages: [('u', 891), ('im', 436), ('get', 295), ('2', 292), ('ltgt', 254), ('dont', 248), ('ok', 247), ('go', 242), ('got', 238), ('like', 221)]\n"
          ]
        }
      ],
      "source": [
        "from collections import Counter\n",
        "\n",
        "#Function to get top words\n",
        "def get_top_words(texts):\n",
        "    all_words = ' '.join(texts).split()\n",
        "    word_counts = Counter(all_words)\n",
        "    return word_counts.most_common(10)\n",
        "\n",
        "#Get top words for spam and ham messages separately\n",
        "spam_messages = df[df['label'] == 'spam']['processed_message']\n",
        "ham_messages = df[df['label'] == 'ham']['processed_message']\n",
        "\n",
        "top_spam_words = get_top_words(spam_messages)\n",
        "top_ham_words = get_top_words(ham_messages)\n",
        "\n",
        "print(\"Top words in spam messages:\", top_spam_words)\n",
        "print(\"Top words in ham messages:\", top_ham_words)"
      ]
    },
    {
      "cell_type": "markdown",
      "source": [
        "###**Feature Engineering:**\n",
        "TF-IDF (Term Frequency-Inverse Document Frequency):\n",
        "This will convert the processed text data into a matrix of features, where each feature represents the importance of a word in the document compared to its frequency across all documents."
      ],
      "metadata": {
        "id": "P5Iw_sl4N0vq"
      }
    },
    {
      "cell_type": "code",
      "execution_count": null,
      "metadata": {
        "colab": {
          "base_uri": "https://localhost:8080/"
        },
        "id": "BeNa7oPeypfP",
        "outputId": "c0944b9d-1dde-4c8a-fcd4-62621fb78f02"
      },
      "outputs": [
        {
          "name": "stdout",
          "output_type": "stream",
          "text": [
            "(5169, 5000)\n"
          ]
        }
      ],
      "source": [
        "from sklearn.feature_extraction.text import TfidfVectorizer\n",
        "\n",
        "#Create a TF-IDF vectorizer\n",
        "tfidf_vectorizer = TfidfVectorizer(max_features=5000)  #Limiting to 5000 features to avoid overfitting\n",
        "\n",
        "#Fit and transform the processed messages\n",
        "X = tfidf_vectorizer.fit_transform(df['processed_message']).toarray()\n",
        "\n",
        "#Check the shape of the TF-IDF matrix\n",
        "print(X.shape)"
      ]
    },
    {
      "cell_type": "markdown",
      "source": [
        "**Label Encoding:**\n",
        "\n",
        "We need to encode the labels (\"ham\" and \"spam\") into numerical values, where:\n",
        "\n",
        "\"ham\" = 0\n",
        "\"spam\" = 1"
      ],
      "metadata": {
        "id": "GQkwXCK9OPut"
      }
    },
    {
      "cell_type": "code",
      "execution_count": null,
      "metadata": {
        "colab": {
          "base_uri": "https://localhost:8080/"
        },
        "id": "o-se66RRy9bN",
        "outputId": "0a28a0a9-4fac-41eb-f043-30df52f6d614"
      },
      "outputs": [
        {
          "name": "stdout",
          "output_type": "stream",
          "text": [
            "[0 0 1 0 0]\n"
          ]
        }
      ],
      "source": [
        "from sklearn.preprocessing import LabelEncoder\n",
        "\n",
        "#Initialize a label encoder\n",
        "label_encoder = LabelEncoder()\n",
        "\n",
        "#Encode the labels (ham = 0, spam = 1)\n",
        "y = label_encoder.fit_transform(df['label'])\n",
        "\n",
        "#Check the encoded labels\n",
        "print(y[:5])"
      ]
    },
    {
      "cell_type": "markdown",
      "source": [
        "Splitting the data:"
      ],
      "metadata": {
        "id": "W_1RlGN3Om7y"
      }
    },
    {
      "cell_type": "code",
      "execution_count": null,
      "metadata": {
        "colab": {
          "base_uri": "https://localhost:8080/"
        },
        "id": "Fj5n0G35zimb",
        "outputId": "3d8bdf62-ed23-444b-b4dd-b6fdce4a6eb0"
      },
      "outputs": [
        {
          "name": "stdout",
          "output_type": "stream",
          "text": [
            "(4135, 5000) (1034, 5000)\n"
          ]
        }
      ],
      "source": [
        "from sklearn.model_selection import train_test_split\n",
        "\n",
        "#Split the data into train and test sets (80% training, 20% testing)\n",
        "X_train, X_test, y_train, y_test = train_test_split(X, y, test_size=0.2, random_state=42)\n",
        "\n",
        "#Check the size of the training and testing sets\n",
        "print(X_train.shape, X_test.shape)"
      ]
    },
    {
      "cell_type": "markdown",
      "metadata": {
        "id": "3M90Forz0ix2"
      },
      "source": [
        "Logistic Regression"
      ]
    },
    {
      "cell_type": "code",
      "execution_count": null,
      "metadata": {
        "colab": {
          "base_uri": "https://localhost:8080/"
        },
        "id": "QZY84jpo0FKb",
        "outputId": "8354c953-07e3-467c-e0b4-8eebb84b1af6"
      },
      "outputs": [
        {
          "name": "stdout",
          "output_type": "stream",
          "text": [
            "Accuracy: 0.9506769825918762\n",
            "Confusion Matrix:\n",
            "[[890   4]\n",
            " [ 47  93]]\n",
            "Classification Report:\n",
            "              precision    recall  f1-score   support\n",
            "\n",
            "           0       0.95      1.00      0.97       894\n",
            "           1       0.96      0.66      0.78       140\n",
            "\n",
            "    accuracy                           0.95      1034\n",
            "   macro avg       0.95      0.83      0.88      1034\n",
            "weighted avg       0.95      0.95      0.95      1034\n",
            "\n"
          ]
        }
      ],
      "source": [
        "from sklearn.linear_model import LogisticRegression\n",
        "from sklearn.metrics import accuracy_score, confusion_matrix, classification_report\n",
        "\n",
        "#Initialize the Logistic Regression model\n",
        "model = LogisticRegression(max_iter=1000, random_state=42)\n",
        "\n",
        "#Train the model on the training data\n",
        "model.fit(X_train, y_train)\n",
        "\n",
        "#Make predictions on the test data\n",
        "y_pred = model.predict(X_test)\n",
        "\n",
        "#Evaluate the model\n",
        "accuracy = accuracy_score(y_test, y_pred)\n",
        "conf_matrix = confusion_matrix(y_test, y_pred)\n",
        "class_report = classification_report(y_test, y_pred)\n",
        "\n",
        "#Print the evaluation metrics\n",
        "print(f\"Accuracy: {accuracy}\")\n",
        "print(f\"Confusion Matrix:\\n{conf_matrix}\")\n",
        "print(f\"Classification Report:\\n{class_report}\")"
      ]
    },
    {
      "cell_type": "markdown",
      "metadata": {
        "id": "8xSd3vse0mlx"
      },
      "source": [
        "Naive Bayes"
      ]
    },
    {
      "cell_type": "code",
      "execution_count": null,
      "metadata": {
        "colab": {
          "base_uri": "https://localhost:8080/"
        },
        "id": "Vx5-kE9b0pEE",
        "outputId": "4d10574d-245f-422e-cdbc-6cb0a4e07448"
      },
      "outputs": [
        {
          "name": "stdout",
          "output_type": "stream",
          "text": [
            "Accuracy: 0.97678916827853\n",
            "Confusion Matrix:\n",
            "[[894   0]\n",
            " [ 24 116]]\n",
            "Classification Report:\n",
            "              precision    recall  f1-score   support\n",
            "\n",
            "           0       0.97      1.00      0.99       894\n",
            "           1       1.00      0.83      0.91       140\n",
            "\n",
            "    accuracy                           0.98      1034\n",
            "   macro avg       0.99      0.91      0.95      1034\n",
            "weighted avg       0.98      0.98      0.98      1034\n",
            "\n"
          ]
        }
      ],
      "source": [
        "from sklearn.naive_bayes import MultinomialNB\n",
        "\n",
        "#Initialize the Naive Bayes classifier\n",
        "nb_model = MultinomialNB()\n",
        "\n",
        "#Train the model on the training data\n",
        "nb_model.fit(X_train, y_train)\n",
        "\n",
        "#Make predictions on the test data\n",
        "y_pred_nb = nb_model.predict(X_test)\n",
        "\n",
        "#Evaluate the model\n",
        "accuracy_nb = accuracy_score(y_test, y_pred_nb)\n",
        "conf_matrix_nb = confusion_matrix(y_test, y_pred_nb)\n",
        "class_report_nb = classification_report(y_test, y_pred_nb)\n",
        "\n",
        "#Print the evaluation metrics\n",
        "print(f\"Accuracy: {accuracy_nb}\")\n",
        "print(f\"Confusion Matrix:\\n{conf_matrix_nb}\")\n",
        "print(f\"Classification Report:\\n{class_report_nb}\")"
      ]
    },
    {
      "cell_type": "markdown",
      "metadata": {
        "id": "yeU1vYz70-Cy"
      },
      "source": [
        "Random Forest"
      ]
    },
    {
      "cell_type": "code",
      "execution_count": null,
      "metadata": {
        "colab": {
          "base_uri": "https://localhost:8080/"
        },
        "id": "uAEB2ODg09V4",
        "outputId": "d3c4c2b1-ddab-4616-aac7-c863f95b7573"
      },
      "outputs": [
        {
          "name": "stdout",
          "output_type": "stream",
          "text": [
            "Accuracy: 0.97678916827853\n",
            "Confusion Matrix:\n",
            "[[894   0]\n",
            " [ 24 116]]\n",
            "Classification Report:\n",
            "              precision    recall  f1-score   support\n",
            "\n",
            "           0       0.97      1.00      0.99       894\n",
            "           1       1.00      0.83      0.91       140\n",
            "\n",
            "    accuracy                           0.98      1034\n",
            "   macro avg       0.99      0.91      0.95      1034\n",
            "weighted avg       0.98      0.98      0.98      1034\n",
            "\n"
          ]
        }
      ],
      "source": [
        "from sklearn.ensemble import RandomForestClassifier\n",
        "\n",
        "#Initialize the Random Forest classifier\n",
        "rf_model = RandomForestClassifier(n_estimators=100, random_state=42)\n",
        "\n",
        "#Train the model on the training data\n",
        "rf_model.fit(X_train, y_train)\n",
        "\n",
        "#Make predictions on the test data\n",
        "y_pred_rf = rf_model.predict(X_test)\n",
        "\n",
        "#Evaluate the model\n",
        "accuracy_rf = accuracy_score(y_test, y_pred_rf)\n",
        "conf_matrix_rf = confusion_matrix(y_test, y_pred_rf)\n",
        "class_report_rf = classification_report(y_test, y_pred_rf)\n",
        "\n",
        "#Print the evaluation metrics\n",
        "print(f\"Accuracy: {accuracy_rf}\")\n",
        "print(f\"Confusion Matrix:\\n{conf_matrix_rf}\")\n",
        "print(f\"Classification Report:\\n{class_report_rf}\")"
      ]
    },
    {
      "cell_type": "markdown",
      "metadata": {
        "id": "EL0_eedV17Xr"
      },
      "source": [
        "Here, both Naive Bayes and Random Forest performed identically and better than Logistic Regression.\n",
        "####But we will choose Random Forest for hyperparameter tuning because it generally has higher potential for improvement through tuning compared to Naive Bayes, which has fewer parameters to adjust.\n",
        "Random Forests are also generally more robust against overfitting than both Logistic Regression and Naive Bayes, especially with proper tuning."
      ]
    },
    {
      "cell_type": "code",
      "execution_count": null,
      "metadata": {
        "colab": {
          "background_save": true,
          "base_uri": "https://localhost:8080/"
        },
        "id": "im4TvxJN2akC",
        "outputId": "e516b9df-02ce-43ce-a79f-995385bb0c9c"
      },
      "outputs": [
        {
          "name": "stdout",
          "output_type": "stream",
          "text": [
            "Fitting 5 folds for each of 324 candidates, totalling 1620 fits\n"
          ]
        },
        {
          "name": "stderr",
          "output_type": "stream",
          "text": [
            "/usr/local/lib/python3.11/dist-packages/sklearn/model_selection/_validation.py:528: FitFailedWarning: \n",
            "540 fits failed out of a total of 1620.\n",
            "The score on these train-test partitions for these parameters will be set to nan.\n",
            "If these failures are not expected, you can try to debug them by setting error_score='raise'.\n",
            "\n",
            "Below are more details about the failures:\n",
            "--------------------------------------------------------------------------------\n",
            "244 fits failed with the following error:\n",
            "Traceback (most recent call last):\n",
            "  File \"/usr/local/lib/python3.11/dist-packages/sklearn/model_selection/_validation.py\", line 866, in _fit_and_score\n",
            "    estimator.fit(X_train, y_train, **fit_params)\n",
            "  File \"/usr/local/lib/python3.11/dist-packages/sklearn/base.py\", line 1382, in wrapper\n",
            "    estimator._validate_params()\n",
            "  File \"/usr/local/lib/python3.11/dist-packages/sklearn/base.py\", line 436, in _validate_params\n",
            "    validate_parameter_constraints(\n",
            "  File \"/usr/local/lib/python3.11/dist-packages/sklearn/utils/_param_validation.py\", line 98, in validate_parameter_constraints\n",
            "    raise InvalidParameterError(\n",
            "sklearn.utils._param_validation.InvalidParameterError: The 'max_features' parameter of RandomForestClassifier must be an int in the range [1, inf), a float in the range (0.0, 1.0], a str among {'sqrt', 'log2'} or None. Got 'auto' instead.\n",
            "\n",
            "--------------------------------------------------------------------------------\n",
            "296 fits failed with the following error:\n",
            "Traceback (most recent call last):\n",
            "  File \"/usr/local/lib/python3.11/dist-packages/sklearn/model_selection/_validation.py\", line 866, in _fit_and_score\n",
            "    estimator.fit(X_train, y_train, **fit_params)\n",
            "  File \"/usr/local/lib/python3.11/dist-packages/sklearn/base.py\", line 1382, in wrapper\n",
            "    estimator._validate_params()\n",
            "  File \"/usr/local/lib/python3.11/dist-packages/sklearn/base.py\", line 436, in _validate_params\n",
            "    validate_parameter_constraints(\n",
            "  File \"/usr/local/lib/python3.11/dist-packages/sklearn/utils/_param_validation.py\", line 98, in validate_parameter_constraints\n",
            "    raise InvalidParameterError(\n",
            "sklearn.utils._param_validation.InvalidParameterError: The 'max_features' parameter of RandomForestClassifier must be an int in the range [1, inf), a float in the range (0.0, 1.0], a str among {'log2', 'sqrt'} or None. Got 'auto' instead.\n",
            "\n",
            "  warnings.warn(some_fits_failed_message, FitFailedWarning)\n",
            "/usr/local/lib/python3.11/dist-packages/sklearn/model_selection/_search.py:1107: UserWarning: One or more of the test scores are non-finite: [       nan        nan        nan        nan        nan        nan\n",
            "        nan        nan        nan        nan        nan        nan\n",
            "        nan        nan        nan        nan        nan        nan\n",
            "        nan        nan        nan        nan        nan        nan\n",
            "        nan        nan        nan 0.97049577 0.97170496 0.9719468\n",
            " 0.97218863 0.97291415 0.9738815  0.97267231 0.97363966 0.97363966\n",
            " 0.9688029  0.96904474 0.97049577 0.96904474 0.96904474 0.97001209\n",
            " 0.96952842 0.96952842 0.97049577 0.96130593 0.96299879 0.96348247\n",
            " 0.96130593 0.96299879 0.96348247 0.96203144 0.96275695 0.96324063\n",
            " 0.96106409 0.96227328 0.96130593 0.96517533 0.96565901 0.96735187\n",
            " 0.96638452 0.96735187 0.96856106 0.91801693 0.91777509 0.91777509\n",
            " 0.9185006  0.91753325 0.91825877 0.91729141 0.91704958 0.91825877\n",
            " 0.87593712 0.87593712 0.87593712 0.87593712 0.87593712 0.87593712\n",
            " 0.87593712 0.87593712 0.87593712        nan        nan        nan\n",
            "        nan        nan        nan        nan        nan        nan\n",
            "        nan        nan        nan        nan        nan        nan\n",
            "        nan        nan        nan        nan        nan        nan\n",
            "        nan        nan        nan        nan        nan        nan\n",
            " 0.90495768 0.90229746 0.90302297 0.90423216 0.9025393  0.9025393\n",
            " 0.90471584 0.90229746 0.90278114 0.90229746 0.90108827 0.90108827\n",
            " 0.90181378 0.90157195 0.90108827 0.90133011 0.90181378 0.90108827\n",
            " 0.90278114 0.89963724 0.89915357 0.90278114 0.89963724 0.89915357\n",
            " 0.90133011 0.89939541 0.89939541 0.87593712 0.87593712 0.87593712\n",
            " 0.87593712 0.87593712 0.87593712 0.87593712 0.87593712 0.87593712\n",
            " 0.87593712 0.87593712 0.87593712 0.87593712 0.87593712 0.87593712\n",
            " 0.87593712 0.87593712 0.87593712 0.87593712 0.87593712 0.87593712\n",
            " 0.87593712 0.87593712 0.87593712 0.87593712 0.87593712 0.87593712\n",
            "        nan        nan        nan        nan        nan        nan\n",
            "        nan        nan        nan        nan        nan        nan\n",
            "        nan        nan        nan        nan        nan        nan\n",
            "        nan        nan        nan        nan        nan        nan\n",
            "        nan        nan        nan 0.93905683 0.9407497  0.93784764\n",
            " 0.93905683 0.93929867 0.93784764 0.93833132 0.93929867 0.93857316\n",
            " 0.93518742 0.9356711  0.93397823 0.93688029 0.93639661 0.93470375\n",
            " 0.93663845 0.93639661 0.93494559 0.93035067 0.93228537 0.93155985\n",
            " 0.93035067 0.93228537 0.93155985 0.93107618 0.93228537 0.93180169\n",
            " 0.88270859 0.87811366 0.8783555  0.8814994  0.87811366 0.87811366\n",
            " 0.88101572 0.87738815 0.87714631 0.87690447 0.87617896 0.8764208\n",
            " 0.87690447 0.87617896 0.8764208  0.87690447 0.87617896 0.8764208\n",
            " 0.87593712 0.87593712 0.87593712 0.87593712 0.87593712 0.87593712\n",
            " 0.87593712 0.87593712 0.87593712        nan        nan        nan\n",
            "        nan        nan        nan        nan        nan        nan\n",
            "        nan        nan        nan        nan        nan        nan\n",
            "        nan        nan        nan        nan        nan        nan\n",
            "        nan        nan        nan        nan        nan        nan\n",
            " 0.95937122 0.95792019 0.95792019 0.95912938 0.95864571 0.9598549\n",
            " 0.95937122 0.95888755 0.95912938 0.95622733 0.95453446 0.95380895\n",
            " 0.95646917 0.95525998 0.95356711 0.95646917 0.95598549 0.95356711\n",
            " 0.94631197 0.94486094 0.94437727 0.94631197 0.94486094 0.94437727\n",
            " 0.94703748 0.94461911 0.94510278 0.90012092 0.89842805 0.89842805\n",
            " 0.90084643 0.89866989 0.89866989 0.89987908 0.89528416 0.89721886\n",
            " 0.88875453 0.88585248 0.88730351 0.88875453 0.88585248 0.88706167\n",
            " 0.88754534 0.88512696 0.88730351 0.87593712 0.87593712 0.87593712\n",
            " 0.87593712 0.87593712 0.87593712 0.87593712 0.87593712 0.87593712]\n",
            "  warnings.warn(\n"
          ]
        },
        {
          "name": "stdout",
          "output_type": "stream",
          "text": [
            "Best Parameters: {'max_depth': None, 'max_features': 'sqrt', 'min_samples_leaf': 1, 'min_samples_split': 5, 'n_estimators': 200}\n",
            "Best Score: 0.9738814993954051\n",
            "Accuracy: 0.97678916827853\n",
            "Confusion Matrix:\n",
            "[[894   0]\n",
            " [ 24 116]]\n",
            "Classification Report:\n",
            "              precision    recall  f1-score   support\n",
            "\n",
            "           0       0.97      1.00      0.99       894\n",
            "           1       1.00      0.83      0.91       140\n",
            "\n",
            "    accuracy                           0.98      1034\n",
            "   macro avg       0.99      0.91      0.95      1034\n",
            "weighted avg       0.98      0.98      0.98      1034\n",
            "\n"
          ]
        }
      ],
      "source": [
        "from sklearn.model_selection import GridSearchCV\n",
        "\n",
        "#Define the parameter grid to search\n",
        "param_grid = {\n",
        "    'n_estimators': [50, 100, 200],            # Number of trees in the forest\n",
        "    'max_depth': [None, 10, 20, 30],           # Maximum depth of the trees\n",
        "    'min_samples_split': [2, 5, 10],            # Minimum number of samples required to split an internal node\n",
        "    'min_samples_leaf': [1, 2, 4],              # Minimum number of samples required to be at a leaf node\n",
        "    'max_features': ['auto', 'sqrt', 'log2'],  # Number of features to consider when looking for the best split\n",
        "}\n",
        "\n",
        "#Initialize the Random Forest classifier\n",
        "rf_model = RandomForestClassifier(random_state=42)\n",
        "\n",
        "#Initialize GridSearchCV with 5-fold cross-validation\n",
        "grid_search = GridSearchCV(estimator=rf_model, param_grid=param_grid, cv=5, n_jobs=-1, verbose=2, scoring='accuracy')\n",
        "\n",
        "#Fit the grid search to the data\n",
        "grid_search.fit(X_train, y_train)\n",
        "\n",
        "#Best parameters and best score\n",
        "print(f\"Best Parameters: {grid_search.best_params_}\")\n",
        "print(f\"Best Score: {grid_search.best_score_}\")\n",
        "\n",
        "#Use the best model from GridSearchCV to make predictions\n",
        "best_rf_model = grid_search.best_estimator_\n",
        "y_pred_best_rf = best_rf_model.predict(X_test)\n",
        "\n",
        "#Evaluate the tuned model\n",
        "accuracy_best_rf = accuracy_score(y_test, y_pred_best_rf)\n",
        "conf_matrix_best_rf = confusion_matrix(y_test, y_pred_best_rf)\n",
        "class_report_best_rf = classification_report(y_test, y_pred_best_rf)\n",
        "\n",
        "#Print the evaluation metrics for the tuned model\n",
        "print(f\"Accuracy: {accuracy_best_rf}\")\n",
        "print(f\"Confusion Matrix:\\n{conf_matrix_best_rf}\")\n",
        "print(f\"Classification Report:\\n{class_report_best_rf}\")"
      ]
    },
    {
      "cell_type": "markdown",
      "source": [
        "Interestingly, the overall metrics remained exactly the same after hyperparameter tuning. This suggests a possibility that the default parameters were already well-suited for this specific problem."
      ],
      "metadata": {
        "id": "w7rqeYfCJQfv"
      }
    }
  ],
  "metadata": {
    "colab": {
      "provenance": []
    },
    "kernelspec": {
      "display_name": "Python 3",
      "name": "python3"
    },
    "language_info": {
      "name": "python"
    }
  },
  "nbformat": 4,
  "nbformat_minor": 0
}